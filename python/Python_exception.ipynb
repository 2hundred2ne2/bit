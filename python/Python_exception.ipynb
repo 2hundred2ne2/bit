{
 "cells": [
  {
   "cell_type": "code",
   "execution_count": 5,
   "metadata": {},
   "outputs": [
    {
     "name": "stdout",
     "output_type": "stream",
     "text": [
      "정수를입력해주세요.>>15\n",
      "제곱의 연산 결과: 225\n"
     ]
    }
   ],
   "source": [
    "try:\n",
    "    number_input_a= int(input('정수를입력해주세요.>>'))\n",
    "    \n",
    "    print(\"제곱의 연산 결과:\",number_input_a*number_input_a)\n",
    "    \n",
    "except:#어떠한 예외이든 예외가 발생하면 이곳에서 처리\n",
    "    print('예외가 발생했습니다.')\n",
    "                          "
   ]
  },
  {
   "cell_type": "code",
   "execution_count": 8,
   "metadata": {},
   "outputs": [
    {
     "name": "stdout",
     "output_type": "stream",
     "text": [
      "정수를입력해주세요.>>15\n",
      "제곱의 연산 결과: 225\n"
     ]
    }
   ],
   "source": [
    "try:\n",
    "    number_input_a= int(input('정수를입력해주세요.>>'))\n",
    "    \n",
    "    print(\"제곱의 연산 결과:\",number_input_a*number_input_a)\n",
    "    \n",
    "except:#어떠한 예외이든 예외가 발생하면 이곳에서 처리\n",
    "    pass # 처리할 내용이 없을 때 기술\n",
    "\n",
    "                          "
   ]
  },
  {
   "cell_type": "code",
   "execution_count": 10,
   "metadata": {},
   "outputs": [
    {
     "name": "stdout",
     "output_type": "stream",
     "text": [
      "정수를입력해주세요.>>2\n",
      "제곱의 연산 결과: 4\n"
     ]
    }
   ],
   "source": [
    "try:\n",
    "    number_input_a= int(input('정수를입력해주세요.>>'))\n",
    "    \n",
    "   \n",
    "    \n",
    "except:#어떠한 예외이든 예외가 발생하면 이곳에서 처리\n",
    "  #  pass # 처리할 내용이 없을 때 기술\n",
    "    print(\"예외가 발생했습니다\")\n",
    "else:\n",
    "    #예외가 발생하지 않았을 때 처리 구문\n",
    "     print(\"제곱의 연산 결과:\",number_input_a*number_input_a)\n",
    "                          "
   ]
  },
  {
   "cell_type": "code",
   "execution_count": 12,
   "metadata": {},
   "outputs": [
    {
     "name": "stdout",
     "output_type": "stream",
     "text": [
      "정수를입력해주세요.>>55\n",
      "제곱의 연산 결과: 3025\n",
      "프로그램을 종료합니다.\n"
     ]
    }
   ],
   "source": [
    "try:\n",
    "    number_input_a= int(input('정수를입력해주세요.>>'))\n",
    "    \n",
    "   \n",
    "    \n",
    "except:#어떠한 예외이든 예외가 발생하면 이곳에서 처리\n",
    "  #  pass # 처리할 내용이 없을 때 기술\n",
    "    print(\"예외가 발생했습니다\")\n",
    "else:\n",
    "    #예외가 발생하지 않았을 때 처리 구문\n",
    "     print(\"제곱의 연산 결과:\",number_input_a*number_input_a)\n",
    "\n",
    "finally:\n",
    "    print('프로그램을 종료합니다.')\n",
    "                          "
   ]
  },
  {
   "cell_type": "code",
   "execution_count": 13,
   "metadata": {},
   "outputs": [
    {
     "name": "stdout",
     "output_type": "stream",
     "text": [
      "정수를입력해주세요.>>f\n",
      "예외가 발생했습니다\n",
      "<class 'ValueError'>\n",
      "invalid literal for int() with base 10: 'f'\n",
      "프로그램을 종료합니다.\n"
     ]
    }
   ],
   "source": [
    "try:\n",
    "    #예외 발생 예상 코드\n",
    "    number_input_a= int(input('정수를입력해주세요.>>'))\n",
    "    \n",
    "   \n",
    "    \n",
    "except Exception as e:#어떠한 예외이든 예외가 발생하면 이곳에서 처리\n",
    "  #  pass # 처리할 내용이 없을 때 기술\n",
    "    print(\"예외가 발생했습니다\")\n",
    "    print(type(e))\n",
    "    print(e)\n",
    "else:\n",
    "    #예외가 발생하지 않았을 때 처리 구문\n",
    "     print(\"제곱의 연산 결과:\",number_input_a*number_input_a)\n",
    "\n",
    "finally:\n",
    "    print('프로그램을 종료합니다.')\n",
    "                          "
   ]
  },
  {
   "cell_type": "code",
   "execution_count": 17,
   "metadata": {},
   "outputs": [
    {
     "name": "stdout",
     "output_type": "stream",
     "text": [
      "리스트의 클래스를 입력하세요1\n",
      "1 번째 요소의 값은 :23\n"
     ]
    }
   ],
   "source": [
    "list_a =[12,23,52,56]\n",
    "\n",
    "try:\n",
    "    idx =int(input('리스트의 클래스를 입력하세요')) # 예외 발생 구문 \n",
    "    print('{} 번째 요소의 값은 :{}'.format(idx,list_a[idx])) # 예외 발생 구문 \n",
    "except ValueError as ve:\n",
    "    print('숫자만입력해주세요')\n",
    "    print(ve)\n",
    "except IndexError as ie:\n",
    "    print('리스트의 범위를 벗어난 인덱스 갑싱빈다.')\n",
    "    print(ie)"
   ]
  },
  {
   "cell_type": "code",
   "execution_count": null,
   "metadata": {},
   "outputs": [],
   "source": []
  },
  {
   "cell_type": "code",
   "execution_count": null,
   "metadata": {},
   "outputs": [],
   "source": []
  },
  {
   "cell_type": "code",
   "execution_count": null,
   "metadata": {},
   "outputs": [],
   "source": []
  }
 ],
 "metadata": {
  "kernelspec": {
   "display_name": "Python 3",
   "language": "python",
   "name": "python3"
  },
  "language_info": {
   "codemirror_mode": {
    "name": "ipython",
    "version": 3
   },
   "file_extension": ".py",
   "mimetype": "text/x-python",
   "name": "python",
   "nbconvert_exporter": "python",
   "pygments_lexer": "ipython3",
   "version": "3.8.5"
  }
 },
 "nbformat": 4,
 "nbformat_minor": 4
}
