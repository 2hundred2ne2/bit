{
 "cells": [
  {
   "cell_type": "code",
   "execution_count": 1,
   "metadata": {},
   "outputs": [
    {
     "name": "stdout",
     "output_type": "stream",
     "text": [
      "3/2= 1.5\n"
     ]
    }
   ],
   "source": [
    "print(\"3/2=\",3/2)"
   ]
  },
  {
   "cell_type": "code",
   "execution_count": 4,
   "metadata": {},
   "outputs": [
    {
     "name": "stdout",
     "output_type": "stream",
     "text": [
      "6.5\n",
      "3\n",
      "6\n",
      "1\n"
     ]
    }
   ],
   "source": [
    "print(13/2)\n",
    "print(int(10/3))\n",
    "print(13//2)# 결과를 정슈 부분만 결과로 반환 -> 몫을 구하는 연산\n",
    "print(13%2)"
   ]
  },
  {
   "cell_type": "code",
   "execution_count": 5,
   "metadata": {},
   "outputs": [
    {
     "name": "stdout",
     "output_type": "stream",
     "text": [
      "2**1= 2\n",
      "2**2= 4\n",
      "2**3= 8\n"
     ]
    }
   ],
   "source": [
    "# 제곱연산자 \n",
    "print(\"2**1=\",2**1)\n",
    "print(\"2**2=\",2**2)\n",
    "print(\"2**3=\",2**3)"
   ]
  },
  {
   "cell_type": "code",
   "execution_count": null,
   "metadata": {},
   "outputs": [],
   "source": [
    "number =input('정수 값하나를 입력해 주세요>>>>')\n",
    "print(type(number),number)#number 는  input 함수에서 반환한 타입이 str 이기 때문에 \n",
    " \n",
    "number =int(number)#number를 int로 변환\n",
    "print(type(number),number+100) # number-> int 정수간의 산술연산이 가능 \n"
   ]
  },
  {
   "cell_type": "code",
   "execution_count": null,
   "metadata": {},
   "outputs": [],
   "source": []
  },
  {
   "cell_type": "code",
   "execution_count": null,
   "metadata": {},
   "outputs": [],
   "source": []
  },
  {
   "cell_type": "code",
   "execution_count": null,
   "metadata": {},
   "outputs": [],
   "source": []
  }
 ],
 "metadata": {
  "kernelspec": {
   "display_name": "Python 3",
   "language": "python",
   "name": "python3"
  },
  "language_info": {
   "codemirror_mode": {
    "name": "ipython",
    "version": 3
   },
   "file_extension": ".py",
   "mimetype": "text/x-python",
   "name": "python",
   "nbconvert_exporter": "python",
   "pygments_lexer": "ipython3",
   "version": "3.8.5"
  }
 },
 "nbformat": 4,
 "nbformat_minor": 4
}
