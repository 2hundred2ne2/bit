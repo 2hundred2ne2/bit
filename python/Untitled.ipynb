{
 "cells": [
  {
   "cell_type": "code",
   "execution_count": 1,
   "metadata": {},
   "outputs": [
    {
     "name": "stdout",
     "output_type": "stream",
     "text": [
      "3/2= 1.5\n"
     ]
    }
   ],
   "source": [
    "print(\"3/2=\",3/2)"
   ]
  },
  {
   "cell_type": "code",
   "execution_count": 4,
   "metadata": {},
   "outputs": [
    {
     "name": "stdout",
     "output_type": "stream",
     "text": [
      "6.5\n",
      "3\n",
      "6\n",
      "1\n"
     ]
    }
   ],
   "source": [
    "print(13/2)\n",
    "print(int(10/3))\n",
    "print(13//2)# 결과를 정슈 부분만 결과로 반환 -> 몫을 구하는 연산\n",
    "print(13%2)"
   ]
  },
  {
   "cell_type": "code",
   "execution_count": 5,
   "metadata": {},
   "outputs": [
    {
     "name": "stdout",
     "output_type": "stream",
     "text": [
      "2**1= 2\n",
      "2**2= 4\n",
      "2**3= 8\n"
     ]
    }
   ],
   "source": [
    "# 제곱연산자 \n",
    "print(\"2**1=\",2**1)\n",
    "print(\"2**2=\",2**2)\n",
    "print(\"2**3=\",2**3)"
   ]
  },
  {
   "cell_type": "code",
   "execution_count": 1,
   "metadata": {},
   "outputs": [
    {
     "name": "stdout",
     "output_type": "stream",
     "text": [
      "정수 값하나를 입력해 주세요>>>>123\n",
      "<class 'str'> 123\n",
      "<class 'int'> 223\n"
     ]
    }
   ],
   "source": [
    "number =input('정수 값하나를 입력해 주세요>>>>')\n",
    "print(type(number),number)#number 는  input 함수에서 반환한 타입이 str 이기 때문에 \n",
    " \n",
    "number =int(number)#number를 int로 변환\n",
    "print(type(number),number+100) # number-> int 정수간의 산술연산이 가능 \n"
   ]
  },
  {
   "cell_type": "code",
   "execution_count": 7,
   "metadata": {},
   "outputs": [
    {
     "data": {
      "text/plain": [
       "11"
      ]
     },
     "execution_count": 7,
     "metadata": {},
     "output_type": "execute_result"
    }
   ],
   "source": [
    "#valueError\n",
    "#int('hi')\n",
    "#float('hello')\n",
    "#int('111.111')\n",
    "int(11.11)"
   ]
  },
  {
   "cell_type": "code",
   "execution_count": 23,
   "metadata": {},
   "outputs": [
    {
     "name": "stdout",
     "output_type": "stream",
     "text": [
      "5000만 원\n",
      "첫 연봉 5000만 원 만들기\n",
      "102030\n",
      "1000False문자열\n",
      "<class 'bool'>\n",
      "1000False문자열\n",
      "1000Falseg\n"
     ]
    }
   ],
   "source": [
    "format_a=\"{}만 원\".format(5000)\n",
    "format_b=\"첫 연봉 {}만 원 만들기\".format(5000)\n",
    "format_c=\"{}{}{}\".format(10,20,30)\n",
    "format_d=\"{}{}{}\".format(1000,False,\"문자열\")\n",
    "format_e=\"{}{}{}\".format(1000,False,\"문자열\",5000)\n",
    "format_f=\"{}{}{}\".format(1000,False,\"g\",100,100)\n",
    "print(format_a)\n",
    "print(format_b)\n",
    "print(format_c)\n",
    "print(format_d)\n",
    "print(type(True))\n",
    "print(format_e)\n",
    "print(format_f)"
   ]
  },
  {
   "cell_type": "code",
   "execution_count": 30,
   "metadata": {},
   "outputs": [
    {
     "name": "stdout",
     "output_type": "stream",
     "text": [
      "True\n",
      "False\n",
      "False\n"
     ]
    }
   ],
   "source": [
    "print('hello123'.isalnum())\n",
    "print('hello123'.isalpha())\n",
    "print('123'.isdigit())\n"
   ]
  },
  {
   "cell_type": "code",
   "execution_count": 33,
   "metadata": {},
   "outputs": [
    {
     "name": "stdout",
     "output_type": "stream",
     "text": [
      "0\n",
      "2\n"
     ]
    }
   ],
   "source": [
    "#find() #index 찾기\n",
    "output_a=\"안녕안녕하세요\".find(\"안녕\")\n",
    "print(output_a)\n",
    "print('안녕하세요'.find('하')) \n"
   ]
  },
  {
   "cell_type": "code",
   "execution_count": 34,
   "metadata": {},
   "outputs": [
    {
     "name": "stdout",
     "output_type": "stream",
     "text": [
      "True\n",
      "False\n"
     ]
    }
   ],
   "source": [
    "#in연산자 \n",
    "print('안녕' in '안녕하세요')\n",
    "print('좋아요' in '안녕하세요')"
   ]
  },
  {
   "cell_type": "code",
   "execution_count": 46,
   "metadata": {},
   "outputs": [
    {
     "name": "stdout",
     "output_type": "stream",
     "text": [
      "['10 20 30 40 50']\n",
      "<class 'list'> ['10', '20', '30', '40', '50', '60', '70', '80', '90', '']\n",
      "<class 'list'> ['10 20 30 40 50 60 70 80 90 ']\n",
      "<class 'list'> ['10 20 30 40 50 60 70 80 90 ']\n"
     ]
    }
   ],
   "source": [
    "#split() 함수 반복문 일괄 처리 \n",
    "a= \"10 20 30 40 50\".split(\"/\")\n",
    "print(a)\n",
    "\n",
    "numbers ='10 20 30 40 50 60 70 80 90 '.split(' ')\n",
    "print(type(numbers),numbers)\n",
    "\n",
    "numbers ='10 20 30 40 50 60 70 80 90 '.split(',')\n",
    "print(type(numbers),numbers)\n",
    "numbers ='10 20 30 40 50 60 70 80 90 '.split(':')\n",
    "print(type(numbers),numbers)\n",
    "\n"
   ]
  },
  {
   "cell_type": "code",
   "execution_count": null,
   "metadata": {},
   "outputs": [],
   "source": []
  },
  {
   "cell_type": "code",
   "execution_count": null,
   "metadata": {},
   "outputs": [],
   "source": []
  }
 ],
 "metadata": {
  "kernelspec": {
   "display_name": "Python 3",
   "language": "python",
   "name": "python3"
  },
  "language_info": {
   "codemirror_mode": {
    "name": "ipython",
    "version": 3
   },
   "file_extension": ".py",
   "mimetype": "text/x-python",
   "name": "python",
   "nbconvert_exporter": "python",
   "pygments_lexer": "ipython3",
   "version": "3.8.5"
  }
 },
 "nbformat": 4,
 "nbformat_minor": 4
}
